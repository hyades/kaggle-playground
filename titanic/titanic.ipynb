{
 "cells": [
  {
   "cell_type": "code",
   "execution_count": 1,
   "metadata": {
    "collapsed": false
   },
   "outputs": [],
   "source": [
    "from __future__ import division\n",
    "import pandas as pd\n",
    "import numpy as np\n",
    "from collections import defaultdict\n",
    "from sklearn.model_selection import train_test_split\n",
    "from sklearn.linear_model import Perceptron\n",
    "\n"
   ]
  },
  {
   "cell_type": "code",
   "execution_count": 40,
   "metadata": {
    "collapsed": false
   },
   "outputs": [],
   "source": [
    "train = pd.read_csv(\"train.csv\")\n",
    "test = pd.read_csv(\"test.csv\")\n",
    "\n",
    "train[\"train\"] = 1\n",
    "test[\"train\"] = 0\n",
    "\n",
    "df = pd.concat([train, test], axis=0)\n",
    "\n",
    "# df.corr()[\"Survived\"]\n",
    "\n",
    "\n",
    "df.loc[df.Sex == \"male\", \"Sex\"] = 0\n",
    "df.loc[df.Sex == \"female\", \"Sex\"] = 1\n",
    "df[\"Gender\"] = df[\"Sex\"]\n",
    "df[\"Relations\"] = df[\"SibSp\"] + df[\"Parch\"]\n",
    "df.drop([\"SibSp\", \"Parch\", \"Cabin\", \"Ticket\", \"Sex\", \"Name\", \"PassengerId\"], axis=1, inplace=True)\n",
    "\n",
    "mean_age = int(df.Age.mean())\n",
    "df.loc[df.Age.isnull(), \"Age\"] = mean_age\n",
    "\n",
    "df.loc[df.Embarked.isnull(), \"Embarked\"] = \"S\"\n",
    "\n",
    "for elem in df.Pclass.unique():\n",
    "    mean_fare = df.loc[df.Pclass == elem, \"Fare\"].mean()\n",
    "    df.loc[df.Fare.isnull() & df.Pclass == elem, \"Fare\"] = mean_fare\n",
    "    \n",
    "df = pd.get_dummies(df, columns=[\"Embarked\"])\n",
    "\n",
    "train = df[df.train == 1].copy()\n",
    "test = df[df.train == 0].copy()\n",
    "\n",
    "train.drop(\"train\", axis=1, inplace=True)\n",
    "test.drop([\"train\", \"Survived\"], axis=1, inplace=True)\n",
    "\n",
    "train_y = train[\"Survived\"].values\n",
    "train_x = train[train.columns.drop(\"Survived\")].values\n",
    "\n",
    "test_x = test.values"
   ]
  },
  {
   "cell_type": "code",
   "execution_count": 57,
   "metadata": {
    "collapsed": false
   },
   "outputs": [],
   "source": [
    "model = Perceptron(n_jobs=-1, n_iter=10)\n",
    "model.fit(train_x, train_y)\n",
    "\n",
    "output = model.predict(test_x).astype(int)"
   ]
  },
  {
   "cell_type": "code",
   "execution_count": 60,
   "metadata": {
    "collapsed": false
   },
   "outputs": [],
   "source": [
    "test = pd.read_csv(\"test.csv\")\n",
    "output_df = pd.DataFrame()\n",
    "output_df[\"PassengerId\"] = test.PassengerId\n",
    "output_df[\"Survived\"] = output\n",
    "output_df.to_csv(\"perceptron.csv\", index=False)"
   ]
  },
  {
   "cell_type": "code",
   "execution_count": null,
   "metadata": {
    "collapsed": true
   },
   "outputs": [],
   "source": []
  }
 ],
 "metadata": {
  "anaconda-cloud": {},
  "kernelspec": {
   "display_name": "Python [conda env:py]",
   "language": "python",
   "name": "conda-env-py-py"
  },
  "language_info": {
   "codemirror_mode": {
    "name": "ipython",
    "version": 2
   },
   "file_extension": ".py",
   "mimetype": "text/x-python",
   "name": "python",
   "nbconvert_exporter": "python",
   "pygments_lexer": "ipython2",
   "version": "2.7.12"
  }
 },
 "nbformat": 4,
 "nbformat_minor": 1
}
